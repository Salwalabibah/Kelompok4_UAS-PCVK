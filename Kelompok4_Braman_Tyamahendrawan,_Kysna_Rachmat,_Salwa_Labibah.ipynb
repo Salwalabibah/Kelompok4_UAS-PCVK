{
  "nbformat": 4,
  "nbformat_minor": 0,
  "metadata": {
    "colab": {
      "provenance": [],
      "authorship_tag": "ABX9TyNoUTqFevF24DsNkqlbopiu",
      "include_colab_link": true
    },
    "kernelspec": {
      "name": "python3",
      "display_name": "Python 3"
    },
    "language_info": {
      "name": "python"
    }
  },
  "cells": [
    {
      "cell_type": "markdown",
      "metadata": {
        "id": "view-in-github",
        "colab_type": "text"
      },
      "source": [
        "<a href=\"https://colab.research.google.com/github/Salwalabibah/Kelompok4_UAS-PCVK/blob/main/Kelompok4_Braman_Tyamahendrawan%2C_Kysna_Rachmat%2C_Salwa_Labibah.ipynb\" target=\"_parent\"><img src=\"https://colab.research.google.com/assets/colab-badge.svg\" alt=\"Open In Colab\"/></a>"
      ]
    },
    {
      "cell_type": "code",
      "execution_count": null,
      "metadata": {
        "id": "JAFSONFn0eAE"
      },
      "outputs": [],
      "source": []
    }
  ]
}