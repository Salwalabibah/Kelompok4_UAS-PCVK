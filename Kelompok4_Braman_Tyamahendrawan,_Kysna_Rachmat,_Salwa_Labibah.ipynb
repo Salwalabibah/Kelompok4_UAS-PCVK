{
  "nbformat": 4,
  "nbformat_minor": 0,
  "metadata": {
    "colab": {
      "provenance": [],
      "authorship_tag": "ABX9TyP+txX/y8kbx7u/LVNk/VT6",
      "include_colab_link": true
    },
    "kernelspec": {
      "name": "python3",
      "display_name": "Python 3"
    },
    "language_info": {
      "name": "python"
    }
  },
  "cells": [
    {
      "cell_type": "markdown",
      "metadata": {
        "id": "view-in-github",
        "colab_type": "text"
      },
      "source": [
        "<a href=\"https://colab.research.google.com/github/Salwalabibah/Kelompok4_UAS-PCVK/blob/main/Kelompok4_Braman_Tyamahendrawan%2C_Kysna_Rachmat%2C_Salwa_Labibah.ipynb\" target=\"_parent\"><img src=\"https://colab.research.google.com/assets/colab-badge.svg\" alt=\"Open In Colab\"/></a>"
      ]
    },
    {
      "cell_type": "markdown",
      "source": [
        "# Kelompok 4:\n",
        "\n",
        "1. Braman Tyamahendrawan\n",
        "2. Krysna Rachmat Ramadhan Budiono\n",
        "3. Salwa Labibah Canora\n"
      ],
      "metadata": {
        "id": "Na6vex0k2G6G"
      }
    },
    {
      "cell_type": "markdown",
      "source": [
        "# Face Detection\n"
      ],
      "metadata": {
        "id": "gQA2EPtw27lI"
      }
    },
    {
      "cell_type": "code",
      "execution_count": 1,
      "metadata": {
        "id": "JAFSONFn0eAE",
        "outputId": "ea01f08e-80d4-42fe-b027-fe81d2694aea",
        "colab": {
          "base_uri": "https://localhost:8080/"
        }
      },
      "outputs": [
        {
          "output_type": "stream",
          "name": "stdout",
          "text": [
            "Mounted at /content/drive\n"
          ]
        }
      ],
      "source": [
        "from google.colab import drive\n",
        "drive.mount('/content/drive')"
      ]
    },
    {
      "cell_type": "code",
      "source": [
        "import os\n",
        "import cv2\n",
        "import numpy as np\n",
        "from PIL import Image\n",
        "from google.colab.patches import cv2_imshow\n",
        "import matplotlib.pyplot as plt"
      ],
      "metadata": {
        "id": "tfkTd0Tj23JI"
      },
      "execution_count": 2,
      "outputs": []
    }
  ]
}